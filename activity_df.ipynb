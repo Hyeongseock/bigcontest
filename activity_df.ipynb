{
 "cells": [
  {
   "cell_type": "code",
   "execution_count": 1,
   "metadata": {
    "collapsed": true
   },
   "outputs": [],
   "source": [
    "import pandas as pd\n",
    "import numpy as np\n",
    "import matplotlib as plt"
   ]
  },
  {
   "cell_type": "code",
   "execution_count": 2,
   "metadata": {
    "collapsed": true
   },
   "outputs": [
    {
     "ename": "FileNotFoundError",
     "evalue": "File b'train_activity.csv' does not exist",
     "traceback": [
      "\u001b[1;31m---------------------------------------------------------------------------\u001b[0m",
      "\u001b[1;31mFileNotFoundError\u001b[0m                         Traceback (most recent call last)",
      "\u001b[1;32m<ipython-input-2-dd9249ab1546>\u001b[0m in \u001b[0;36m<module>\u001b[1;34m()\u001b[0m\n\u001b[1;32m----> 1\u001b[1;33m \u001b[0mactivity_df\u001b[0m\u001b[1;33m=\u001b[0m\u001b[0mpd\u001b[0m\u001b[1;33m.\u001b[0m\u001b[0mread_csv\u001b[0m\u001b[1;33m(\u001b[0m\u001b[1;34m'train_activity.csv'\u001b[0m\u001b[1;33m)\u001b[0m\u001b[1;33m\u001b[0m\u001b[0m\n\u001b[0m",
      "\u001b[1;32m~\\AppData\\Roaming\\Python\\Python36\\site-packages\\pandas\\io\\parsers.py\u001b[0m in \u001b[0;36mparser_f\u001b[1;34m(filepath_or_buffer, sep, delimiter, header, names, index_col, usecols, squeeze, prefix, mangle_dupe_cols, dtype, engine, converters, true_values, false_values, skipinitialspace, skiprows, nrows, na_values, keep_default_na, na_filter, verbose, skip_blank_lines, parse_dates, infer_datetime_format, keep_date_col, date_parser, dayfirst, iterator, chunksize, compression, thousands, decimal, lineterminator, quotechar, quoting, escapechar, comment, encoding, dialect, tupleize_cols, error_bad_lines, warn_bad_lines, skipfooter, doublequote, delim_whitespace, low_memory, memory_map, float_precision)\u001b[0m\n\u001b[0;32m    676\u001b[0m                     skip_blank_lines=skip_blank_lines)\n\u001b[0;32m    677\u001b[0m \u001b[1;33m\u001b[0m\u001b[0m\n\u001b[1;32m--> 678\u001b[1;33m         \u001b[1;32mreturn\u001b[0m \u001b[0m_read\u001b[0m\u001b[1;33m(\u001b[0m\u001b[0mfilepath_or_buffer\u001b[0m\u001b[1;33m,\u001b[0m \u001b[0mkwds\u001b[0m\u001b[1;33m)\u001b[0m\u001b[1;33m\u001b[0m\u001b[0m\n\u001b[0m\u001b[0;32m    679\u001b[0m \u001b[1;33m\u001b[0m\u001b[0m\n\u001b[0;32m    680\u001b[0m     \u001b[0mparser_f\u001b[0m\u001b[1;33m.\u001b[0m\u001b[0m__name__\u001b[0m \u001b[1;33m=\u001b[0m \u001b[0mname\u001b[0m\u001b[1;33m\u001b[0m\u001b[0m\n",
      "\u001b[1;32m~\\AppData\\Roaming\\Python\\Python36\\site-packages\\pandas\\io\\parsers.py\u001b[0m in \u001b[0;36m_read\u001b[1;34m(filepath_or_buffer, kwds)\u001b[0m\n\u001b[0;32m    438\u001b[0m \u001b[1;33m\u001b[0m\u001b[0m\n\u001b[0;32m    439\u001b[0m     \u001b[1;31m# Create the parser.\u001b[0m\u001b[1;33m\u001b[0m\u001b[1;33m\u001b[0m\u001b[0m\n\u001b[1;32m--> 440\u001b[1;33m     \u001b[0mparser\u001b[0m \u001b[1;33m=\u001b[0m \u001b[0mTextFileReader\u001b[0m\u001b[1;33m(\u001b[0m\u001b[0mfilepath_or_buffer\u001b[0m\u001b[1;33m,\u001b[0m \u001b[1;33m**\u001b[0m\u001b[0mkwds\u001b[0m\u001b[1;33m)\u001b[0m\u001b[1;33m\u001b[0m\u001b[0m\n\u001b[0m\u001b[0;32m    441\u001b[0m \u001b[1;33m\u001b[0m\u001b[0m\n\u001b[0;32m    442\u001b[0m     \u001b[1;32mif\u001b[0m \u001b[0mchunksize\u001b[0m \u001b[1;32mor\u001b[0m \u001b[0miterator\u001b[0m\u001b[1;33m:\u001b[0m\u001b[1;33m\u001b[0m\u001b[0m\n",
      "\u001b[1;32m~\\AppData\\Roaming\\Python\\Python36\\site-packages\\pandas\\io\\parsers.py\u001b[0m in \u001b[0;36m__init__\u001b[1;34m(self, f, engine, **kwds)\u001b[0m\n\u001b[0;32m    785\u001b[0m             \u001b[0mself\u001b[0m\u001b[1;33m.\u001b[0m\u001b[0moptions\u001b[0m\u001b[1;33m[\u001b[0m\u001b[1;34m'has_index_names'\u001b[0m\u001b[1;33m]\u001b[0m \u001b[1;33m=\u001b[0m \u001b[0mkwds\u001b[0m\u001b[1;33m[\u001b[0m\u001b[1;34m'has_index_names'\u001b[0m\u001b[1;33m]\u001b[0m\u001b[1;33m\u001b[0m\u001b[0m\n\u001b[0;32m    786\u001b[0m \u001b[1;33m\u001b[0m\u001b[0m\n\u001b[1;32m--> 787\u001b[1;33m         \u001b[0mself\u001b[0m\u001b[1;33m.\u001b[0m\u001b[0m_make_engine\u001b[0m\u001b[1;33m(\u001b[0m\u001b[0mself\u001b[0m\u001b[1;33m.\u001b[0m\u001b[0mengine\u001b[0m\u001b[1;33m)\u001b[0m\u001b[1;33m\u001b[0m\u001b[0m\n\u001b[0m\u001b[0;32m    788\u001b[0m \u001b[1;33m\u001b[0m\u001b[0m\n\u001b[0;32m    789\u001b[0m     \u001b[1;32mdef\u001b[0m \u001b[0mclose\u001b[0m\u001b[1;33m(\u001b[0m\u001b[0mself\u001b[0m\u001b[1;33m)\u001b[0m\u001b[1;33m:\u001b[0m\u001b[1;33m\u001b[0m\u001b[0m\n",
      "\u001b[1;32m~\\AppData\\Roaming\\Python\\Python36\\site-packages\\pandas\\io\\parsers.py\u001b[0m in \u001b[0;36m_make_engine\u001b[1;34m(self, engine)\u001b[0m\n\u001b[0;32m   1012\u001b[0m     \u001b[1;32mdef\u001b[0m \u001b[0m_make_engine\u001b[0m\u001b[1;33m(\u001b[0m\u001b[0mself\u001b[0m\u001b[1;33m,\u001b[0m \u001b[0mengine\u001b[0m\u001b[1;33m=\u001b[0m\u001b[1;34m'c'\u001b[0m\u001b[1;33m)\u001b[0m\u001b[1;33m:\u001b[0m\u001b[1;33m\u001b[0m\u001b[0m\n\u001b[0;32m   1013\u001b[0m         \u001b[1;32mif\u001b[0m \u001b[0mengine\u001b[0m \u001b[1;33m==\u001b[0m \u001b[1;34m'c'\u001b[0m\u001b[1;33m:\u001b[0m\u001b[1;33m\u001b[0m\u001b[0m\n\u001b[1;32m-> 1014\u001b[1;33m             \u001b[0mself\u001b[0m\u001b[1;33m.\u001b[0m\u001b[0m_engine\u001b[0m \u001b[1;33m=\u001b[0m \u001b[0mCParserWrapper\u001b[0m\u001b[1;33m(\u001b[0m\u001b[0mself\u001b[0m\u001b[1;33m.\u001b[0m\u001b[0mf\u001b[0m\u001b[1;33m,\u001b[0m \u001b[1;33m**\u001b[0m\u001b[0mself\u001b[0m\u001b[1;33m.\u001b[0m\u001b[0moptions\u001b[0m\u001b[1;33m)\u001b[0m\u001b[1;33m\u001b[0m\u001b[0m\n\u001b[0m\u001b[0;32m   1015\u001b[0m         \u001b[1;32melse\u001b[0m\u001b[1;33m:\u001b[0m\u001b[1;33m\u001b[0m\u001b[0m\n\u001b[0;32m   1016\u001b[0m             \u001b[1;32mif\u001b[0m \u001b[0mengine\u001b[0m \u001b[1;33m==\u001b[0m \u001b[1;34m'python'\u001b[0m\u001b[1;33m:\u001b[0m\u001b[1;33m\u001b[0m\u001b[0m\n",
      "\u001b[1;32m~\\AppData\\Roaming\\Python\\Python36\\site-packages\\pandas\\io\\parsers.py\u001b[0m in \u001b[0;36m__init__\u001b[1;34m(self, src, **kwds)\u001b[0m\n\u001b[0;32m   1706\u001b[0m         \u001b[0mkwds\u001b[0m\u001b[1;33m[\u001b[0m\u001b[1;34m'usecols'\u001b[0m\u001b[1;33m]\u001b[0m \u001b[1;33m=\u001b[0m \u001b[0mself\u001b[0m\u001b[1;33m.\u001b[0m\u001b[0musecols\u001b[0m\u001b[1;33m\u001b[0m\u001b[0m\n\u001b[0;32m   1707\u001b[0m \u001b[1;33m\u001b[0m\u001b[0m\n\u001b[1;32m-> 1708\u001b[1;33m         \u001b[0mself\u001b[0m\u001b[1;33m.\u001b[0m\u001b[0m_reader\u001b[0m \u001b[1;33m=\u001b[0m \u001b[0mparsers\u001b[0m\u001b[1;33m.\u001b[0m\u001b[0mTextReader\u001b[0m\u001b[1;33m(\u001b[0m\u001b[0msrc\u001b[0m\u001b[1;33m,\u001b[0m \u001b[1;33m**\u001b[0m\u001b[0mkwds\u001b[0m\u001b[1;33m)\u001b[0m\u001b[1;33m\u001b[0m\u001b[0m\n\u001b[0m\u001b[0;32m   1709\u001b[0m \u001b[1;33m\u001b[0m\u001b[0m\n\u001b[0;32m   1710\u001b[0m         \u001b[0mpassed_names\u001b[0m \u001b[1;33m=\u001b[0m \u001b[0mself\u001b[0m\u001b[1;33m.\u001b[0m\u001b[0mnames\u001b[0m \u001b[1;32mis\u001b[0m \u001b[1;32mNone\u001b[0m\u001b[1;33m\u001b[0m\u001b[0m\n",
      "\u001b[1;32mpandas\\_libs\\parsers.pyx\u001b[0m in \u001b[0;36mpandas._libs.parsers.TextReader.__cinit__\u001b[1;34m()\u001b[0m\n",
      "\u001b[1;32mpandas\\_libs\\parsers.pyx\u001b[0m in \u001b[0;36mpandas._libs.parsers.TextReader._setup_parser_source\u001b[1;34m()\u001b[0m\n",
      "\u001b[1;31mFileNotFoundError\u001b[0m: File b'train_activity.csv' does not exist"
     ],
     "output_type": "error"
    }
   ],
   "source": [
    "activity_df=pd.read_csv('train_activity.csv')"
   ]
  },
  {
   "cell_type": "code",
   "execution_count": 3,
   "metadata": {},
   "outputs": [
    {
     "data": {
      "text/html": [
       "<div>\n",
       "<style>\n",
       "    .dataframe thead tr:only-child th {\n",
       "        text-align: right;\n",
       "    }\n",
       "\n",
       "    .dataframe thead th {\n",
       "        text-align: left;\n",
       "    }\n",
       "\n",
       "    .dataframe tbody tr th {\n",
       "        vertical-align: top;\n",
       "    }\n",
       "</style>\n",
       "<table border=\"1\" class=\"dataframe\">\n",
       "  <thead>\n",
       "    <tr style=\"text-align: right;\">\n",
       "      <th></th>\n",
       "      <th>wk</th>\n",
       "      <th>acc_id</th>\n",
       "      <th>cnt_dt</th>\n",
       "      <th>play_time</th>\n",
       "      <th>npc_exp</th>\n",
       "      <th>npc_hongmun</th>\n",
       "      <th>quest_exp</th>\n",
       "      <th>quest_hongmun</th>\n",
       "      <th>item_hongmun</th>\n",
       "      <th>game_combat_time</th>\n",
       "      <th>...</th>\n",
       "      <th>cnt_clear_bam</th>\n",
       "      <th>normal_chat</th>\n",
       "      <th>whisper_chat</th>\n",
       "      <th>district_chat</th>\n",
       "      <th>party_chat</th>\n",
       "      <th>guild_chat</th>\n",
       "      <th>faction_chat</th>\n",
       "      <th>cnt_use_buffitem</th>\n",
       "      <th>gathering_cnt</th>\n",
       "      <th>making_cnt</th>\n",
       "    </tr>\n",
       "  </thead>\n",
       "  <tbody>\n",
       "    <tr>\n",
       "      <th>0</th>\n",
       "      <td>7</td>\n",
       "      <td>3dc6f2875dc6e6f35b9e2bdb25b391a8003386ff23becd...</td>\n",
       "      <td>4</td>\n",
       "      <td>2.088814</td>\n",
       "      <td>4.405057</td>\n",
       "      <td>-0.245477</td>\n",
       "      <td>4.454059</td>\n",
       "      <td>3.009797</td>\n",
       "      <td>-0.306354</td>\n",
       "      <td>1.184011</td>\n",
       "      <td>...</td>\n",
       "      <td>-0.03313</td>\n",
       "      <td>-0.034038</td>\n",
       "      <td>-0.231827</td>\n",
       "      <td>-0.016574</td>\n",
       "      <td>-0.275174</td>\n",
       "      <td>-0.343293</td>\n",
       "      <td>-0.024028</td>\n",
       "      <td>3.466939</td>\n",
       "      <td>-0.027758</td>\n",
       "      <td>-0.365536</td>\n",
       "    </tr>\n",
       "    <tr>\n",
       "      <th>1</th>\n",
       "      <td>8</td>\n",
       "      <td>3dc6f2875dc6e6f35b9e2bdb25b391a8003386ff23becd...</td>\n",
       "      <td>5</td>\n",
       "      <td>2.673460</td>\n",
       "      <td>4.760178</td>\n",
       "      <td>-0.222527</td>\n",
       "      <td>6.107479</td>\n",
       "      <td>4.758528</td>\n",
       "      <td>-0.306354</td>\n",
       "      <td>1.709534</td>\n",
       "      <td>...</td>\n",
       "      <td>-0.03313</td>\n",
       "      <td>-0.034038</td>\n",
       "      <td>-0.231827</td>\n",
       "      <td>-0.016574</td>\n",
       "      <td>-0.275174</td>\n",
       "      <td>-0.343293</td>\n",
       "      <td>-0.024028</td>\n",
       "      <td>5.070359</td>\n",
       "      <td>-0.027758</td>\n",
       "      <td>-0.365536</td>\n",
       "    </tr>\n",
       "    <tr>\n",
       "      <th>2</th>\n",
       "      <td>3</td>\n",
       "      <td>b8856358ff62e596fa07e3e40b8e7fd4b7729263c72b44...</td>\n",
       "      <td>2</td>\n",
       "      <td>-0.649522</td>\n",
       "      <td>-0.231021</td>\n",
       "      <td>-0.290803</td>\n",
       "      <td>-0.245978</td>\n",
       "      <td>-0.487666</td>\n",
       "      <td>-0.306354</td>\n",
       "      <td>-0.566706</td>\n",
       "      <td>...</td>\n",
       "      <td>-0.03313</td>\n",
       "      <td>-0.034038</td>\n",
       "      <td>-0.231827</td>\n",
       "      <td>-0.016574</td>\n",
       "      <td>-0.275174</td>\n",
       "      <td>-0.343293</td>\n",
       "      <td>-0.024028</td>\n",
       "      <td>-0.498275</td>\n",
       "      <td>-0.027758</td>\n",
       "      <td>-0.365536</td>\n",
       "    </tr>\n",
       "    <tr>\n",
       "      <th>3</th>\n",
       "      <td>4</td>\n",
       "      <td>b8856358ff62e596fa07e3e40b8e7fd4b7729263c72b44...</td>\n",
       "      <td>2</td>\n",
       "      <td>-0.658235</td>\n",
       "      <td>-0.231874</td>\n",
       "      <td>-0.290803</td>\n",
       "      <td>-0.250423</td>\n",
       "      <td>-0.487666</td>\n",
       "      <td>-0.306354</td>\n",
       "      <td>-0.569842</td>\n",
       "      <td>...</td>\n",
       "      <td>-0.03313</td>\n",
       "      <td>-0.034038</td>\n",
       "      <td>-0.231827</td>\n",
       "      <td>-0.016574</td>\n",
       "      <td>-0.275174</td>\n",
       "      <td>-0.343293</td>\n",
       "      <td>-0.024028</td>\n",
       "      <td>-0.503692</td>\n",
       "      <td>-0.027758</td>\n",
       "      <td>-0.365536</td>\n",
       "    </tr>\n",
       "    <tr>\n",
       "      <th>4</th>\n",
       "      <td>5</td>\n",
       "      <td>b8856358ff62e596fa07e3e40b8e7fd4b7729263c72b44...</td>\n",
       "      <td>4</td>\n",
       "      <td>-0.654734</td>\n",
       "      <td>-0.231874</td>\n",
       "      <td>-0.290803</td>\n",
       "      <td>-0.250423</td>\n",
       "      <td>-0.487666</td>\n",
       "      <td>-0.306354</td>\n",
       "      <td>-0.569842</td>\n",
       "      <td>...</td>\n",
       "      <td>-0.03313</td>\n",
       "      <td>-0.034038</td>\n",
       "      <td>-0.231827</td>\n",
       "      <td>-0.016574</td>\n",
       "      <td>-0.275174</td>\n",
       "      <td>-0.343293</td>\n",
       "      <td>-0.024028</td>\n",
       "      <td>-0.503692</td>\n",
       "      <td>-0.027758</td>\n",
       "      <td>-0.365536</td>\n",
       "    </tr>\n",
       "  </tbody>\n",
       "</table>\n",
       "<p>5 rows × 38 columns</p>\n",
       "</div>"
      ],
      "text/plain": [
       "   wk                                             acc_id  cnt_dt  play_time  \\\n",
       "0   7  3dc6f2875dc6e6f35b9e2bdb25b391a8003386ff23becd...       4   2.088814   \n",
       "1   8  3dc6f2875dc6e6f35b9e2bdb25b391a8003386ff23becd...       5   2.673460   \n",
       "2   3  b8856358ff62e596fa07e3e40b8e7fd4b7729263c72b44...       2  -0.649522   \n",
       "3   4  b8856358ff62e596fa07e3e40b8e7fd4b7729263c72b44...       2  -0.658235   \n",
       "4   5  b8856358ff62e596fa07e3e40b8e7fd4b7729263c72b44...       4  -0.654734   \n",
       "\n",
       "    npc_exp  npc_hongmun  quest_exp  quest_hongmun  item_hongmun  \\\n",
       "0  4.405057    -0.245477   4.454059       3.009797     -0.306354   \n",
       "1  4.760178    -0.222527   6.107479       4.758528     -0.306354   \n",
       "2 -0.231021    -0.290803  -0.245978      -0.487666     -0.306354   \n",
       "3 -0.231874    -0.290803  -0.250423      -0.487666     -0.306354   \n",
       "4 -0.231874    -0.290803  -0.250423      -0.487666     -0.306354   \n",
       "\n",
       "   game_combat_time     ...      cnt_clear_bam  normal_chat  whisper_chat  \\\n",
       "0          1.184011     ...           -0.03313    -0.034038     -0.231827   \n",
       "1          1.709534     ...           -0.03313    -0.034038     -0.231827   \n",
       "2         -0.566706     ...           -0.03313    -0.034038     -0.231827   \n",
       "3         -0.569842     ...           -0.03313    -0.034038     -0.231827   \n",
       "4         -0.569842     ...           -0.03313    -0.034038     -0.231827   \n",
       "\n",
       "   district_chat  party_chat  guild_chat  faction_chat  cnt_use_buffitem  \\\n",
       "0      -0.016574   -0.275174   -0.343293     -0.024028          3.466939   \n",
       "1      -0.016574   -0.275174   -0.343293     -0.024028          5.070359   \n",
       "2      -0.016574   -0.275174   -0.343293     -0.024028         -0.498275   \n",
       "3      -0.016574   -0.275174   -0.343293     -0.024028         -0.503692   \n",
       "4      -0.016574   -0.275174   -0.343293     -0.024028         -0.503692   \n",
       "\n",
       "   gathering_cnt  making_cnt  \n",
       "0      -0.027758   -0.365536  \n",
       "1      -0.027758   -0.365536  \n",
       "2      -0.027758   -0.365536  \n",
       "3      -0.027758   -0.365536  \n",
       "4      -0.027758   -0.365536  \n",
       "\n",
       "[5 rows x 38 columns]"
      ]
     },
     "execution_count": 3,
     "metadata": {},
     "output_type": "execute_result"
    }
   ],
   "source": [
    "activity_df.head()"
   ]
  },
  {
   "cell_type": "markdown",
   "metadata": {},
   "source": [
    "### wk와 acc_id만 따로 빼서 새로운 데이터프레임을 만든다."
   ]
  },
  {
   "cell_type": "code",
   "execution_count": 4,
   "metadata": {
    "collapsed": true
   },
   "outputs": [],
   "source": [
    "tempt_df=pd.DataFrame({'wk':activity_df.wk,'acc_id':activity_df.acc_id})"
   ]
  },
  {
   "cell_type": "code",
   "execution_count": 5,
   "metadata": {
    "scrolled": true
   },
   "outputs": [
    {
     "data": {
      "text/html": [
       "<div>\n",
       "<style>\n",
       "    .dataframe thead tr:only-child th {\n",
       "        text-align: right;\n",
       "    }\n",
       "\n",
       "    .dataframe thead th {\n",
       "        text-align: left;\n",
       "    }\n",
       "\n",
       "    .dataframe tbody tr th {\n",
       "        vertical-align: top;\n",
       "    }\n",
       "</style>\n",
       "<table border=\"1\" class=\"dataframe\">\n",
       "  <thead>\n",
       "    <tr style=\"text-align: right;\">\n",
       "      <th></th>\n",
       "      <th>acc_id</th>\n",
       "      <th>wk</th>\n",
       "    </tr>\n",
       "  </thead>\n",
       "  <tbody>\n",
       "    <tr>\n",
       "      <th>0</th>\n",
       "      <td>3dc6f2875dc6e6f35b9e2bdb25b391a8003386ff23becd...</td>\n",
       "      <td>7</td>\n",
       "    </tr>\n",
       "    <tr>\n",
       "      <th>1</th>\n",
       "      <td>3dc6f2875dc6e6f35b9e2bdb25b391a8003386ff23becd...</td>\n",
       "      <td>8</td>\n",
       "    </tr>\n",
       "    <tr>\n",
       "      <th>2</th>\n",
       "      <td>b8856358ff62e596fa07e3e40b8e7fd4b7729263c72b44...</td>\n",
       "      <td>3</td>\n",
       "    </tr>\n",
       "    <tr>\n",
       "      <th>3</th>\n",
       "      <td>b8856358ff62e596fa07e3e40b8e7fd4b7729263c72b44...</td>\n",
       "      <td>4</td>\n",
       "    </tr>\n",
       "    <tr>\n",
       "      <th>4</th>\n",
       "      <td>b8856358ff62e596fa07e3e40b8e7fd4b7729263c72b44...</td>\n",
       "      <td>5</td>\n",
       "    </tr>\n",
       "  </tbody>\n",
       "</table>\n",
       "</div>"
      ],
      "text/plain": [
       "                                              acc_id  wk\n",
       "0  3dc6f2875dc6e6f35b9e2bdb25b391a8003386ff23becd...   7\n",
       "1  3dc6f2875dc6e6f35b9e2bdb25b391a8003386ff23becd...   8\n",
       "2  b8856358ff62e596fa07e3e40b8e7fd4b7729263c72b44...   3\n",
       "3  b8856358ff62e596fa07e3e40b8e7fd4b7729263c72b44...   4\n",
       "4  b8856358ff62e596fa07e3e40b8e7fd4b7729263c72b44...   5"
      ]
     },
     "execution_count": 5,
     "metadata": {},
     "output_type": "execute_result"
    }
   ],
   "source": [
    "tempt_df.head()"
   ]
  },
  {
   "cell_type": "markdown",
   "metadata": {},
   "source": [
    "### acc_id 별로 카운트를 하여 몇 주 접속했는지 count를 통해 계산한다."
   ]
  },
  {
   "cell_type": "code",
   "execution_count": 6,
   "metadata": {
    "collapsed": true
   },
   "outputs": [],
   "source": [
    "wk_sum=tempt_df.groupby('acc_id').count()"
   ]
  },
  {
   "cell_type": "markdown",
   "metadata": {},
   "source": [
    "### acc_id별로 나머지는 평균을 구하여 id 별 값을 구한다."
   ]
  },
  {
   "cell_type": "code",
   "execution_count": 7,
   "metadata": {
    "collapsed": true
   },
   "outputs": [],
   "source": [
    "activity_df=activity_df.groupby('acc_id').mean()"
   ]
  },
  {
   "cell_type": "markdown",
   "metadata": {},
   "source": [
    "### activity_df에는 wk를 제거하고 몇 주 접속했는지를 구한 wk_sum을 추가한다."
   ]
  },
  {
   "cell_type": "code",
   "execution_count": 8,
   "metadata": {
    "collapsed": true
   },
   "outputs": [],
   "source": [
    "activity_df=activity_df.drop(['wk'],axis=1)\n",
    "activity_df['wk_sum']=wk_sum"
   ]
  },
  {
   "cell_type": "code",
   "execution_count": 9,
   "metadata": {},
   "outputs": [
    {
     "data": {
      "text/plain": [
       "(100000, 37)"
      ]
     },
     "execution_count": 9,
     "metadata": {},
     "output_type": "execute_result"
    }
   ],
   "source": [
    "activity_df.shape"
   ]
  },
  {
   "cell_type": "markdown",
   "metadata": {},
   "source": [
    "### 길드정보를 activity_df에 저장한다. 길드 맴버에 id가 있으면 join, 없으면 not을 저장하는 새로운 열을 추가한다."
   ]
  },
  {
   "cell_type": "code",
   "execution_count": 10,
   "metadata": {
    "collapsed": true
   },
   "outputs": [],
   "source": [
    "guild_df=pd.read_csv('train_guild.csv')"
   ]
  },
  {
   "cell_type": "code",
   "execution_count": 11,
   "metadata": {
    "collapsed": true
   },
   "outputs": [],
   "source": [
    "guild_member_list=[]"
   ]
  },
  {
   "cell_type": "markdown",
   "metadata": {},
   "source": [
    "### 길드 멤버 리스트를 ,로 쪼개 리스트에 저장하고 이 리스트에 id가 있으면 Join, 없으면 Not을 저장하는 열을 만든다."
   ]
  },
  {
   "cell_type": "code",
   "execution_count": 12,
   "metadata": {
    "collapsed": true
   },
   "outputs": [],
   "source": [
    "for i in guild_df.guild_member_acc_id:\n",
    "    if ',' in i:\n",
    "        tmp_list=i.split(',')\n",
    "        for member in tmp_list:\n",
    "            guild_member_list.append(member)\n",
    "    else:\n",
    "        guild_member_list.append(i)"
   ]
  },
  {
   "cell_type": "code",
   "execution_count": 13,
   "metadata": {
    "collapsed": true
   },
   "outputs": [],
   "source": [
    "guild_member_list=list(set(guild_member_list))"
   ]
  },
  {
   "cell_type": "code",
   "execution_count": 14,
   "metadata": {
    "collapsed": true
   },
   "outputs": [],
   "source": [
    "in_guild=[]"
   ]
  },
  {
   "cell_type": "code",
   "execution_count": 15,
   "metadata": {
    "collapsed": true
   },
   "outputs": [],
   "source": [
    "for i in activity_df.index:\n",
    "    if i in guild_member_list:\n",
    "        in_guild.append('Join')\n",
    "    else:\n",
    "        in_guild.append('Not')"
   ]
  },
  {
   "cell_type": "code",
   "execution_count": 16,
   "metadata": {
    "collapsed": true
   },
   "outputs": [],
   "source": [
    "activity_df['guild']=in_guild"
   ]
  },
  {
   "cell_type": "code",
   "execution_count": 24,
   "metadata": {},
   "outputs": [
    {
     "data": {
      "text/html": [
       "<div>\n",
       "<style>\n",
       "    .dataframe thead tr:only-child th {\n",
       "        text-align: right;\n",
       "    }\n",
       "\n",
       "    .dataframe thead th {\n",
       "        text-align: left;\n",
       "    }\n",
       "\n",
       "    .dataframe tbody tr th {\n",
       "        vertical-align: top;\n",
       "    }\n",
       "</style>\n",
       "<table border=\"1\" class=\"dataframe\">\n",
       "  <thead>\n",
       "    <tr style=\"text-align: right;\">\n",
       "      <th></th>\n",
       "      <th>acc_id</th>\n",
       "      <th>cnt_dt</th>\n",
       "      <th>play_time</th>\n",
       "      <th>npc_exp</th>\n",
       "      <th>npc_hongmun</th>\n",
       "      <th>quest_exp</th>\n",
       "      <th>quest_hongmun</th>\n",
       "      <th>item_hongmun</th>\n",
       "      <th>game_combat_time</th>\n",
       "      <th>get_money</th>\n",
       "      <th>...</th>\n",
       "      <th>whisper_chat</th>\n",
       "      <th>district_chat</th>\n",
       "      <th>party_chat</th>\n",
       "      <th>guild_chat</th>\n",
       "      <th>faction_chat</th>\n",
       "      <th>cnt_use_buffitem</th>\n",
       "      <th>gathering_cnt</th>\n",
       "      <th>making_cnt</th>\n",
       "      <th>wk_sum</th>\n",
       "      <th>guild</th>\n",
       "    </tr>\n",
       "  </thead>\n",
       "  <tbody>\n",
       "    <tr>\n",
       "      <th>0</th>\n",
       "      <td>0000264b01392acfde44f9d8494f112a701dc5d3e5fda6...</td>\n",
       "      <td>6.000000</td>\n",
       "      <td>3.627488</td>\n",
       "      <td>6.041965</td>\n",
       "      <td>-0.238288</td>\n",
       "      <td>6.825828</td>\n",
       "      <td>4.926936</td>\n",
       "      <td>-0.306354</td>\n",
       "      <td>2.555035</td>\n",
       "      <td>-0.023419</td>\n",
       "      <td>...</td>\n",
       "      <td>-0.231827</td>\n",
       "      <td>-0.016574</td>\n",
       "      <td>-0.275174</td>\n",
       "      <td>-0.343293</td>\n",
       "      <td>-0.024028</td>\n",
       "      <td>2.662520</td>\n",
       "      <td>-0.027758</td>\n",
       "      <td>-0.365536</td>\n",
       "      <td>2</td>\n",
       "      <td>Not</td>\n",
       "    </tr>\n",
       "    <tr>\n",
       "      <th>1</th>\n",
       "      <td>0001f130e89288ff0df167b998f6eb7085687f411fcb72...</td>\n",
       "      <td>3.125000</td>\n",
       "      <td>-0.660696</td>\n",
       "      <td>-0.231874</td>\n",
       "      <td>-0.290803</td>\n",
       "      <td>-0.250423</td>\n",
       "      <td>-0.487666</td>\n",
       "      <td>-0.306354</td>\n",
       "      <td>-0.569842</td>\n",
       "      <td>-0.023543</td>\n",
       "      <td>...</td>\n",
       "      <td>-0.231827</td>\n",
       "      <td>-0.016574</td>\n",
       "      <td>-0.275174</td>\n",
       "      <td>-0.343293</td>\n",
       "      <td>-0.024028</td>\n",
       "      <td>-0.503692</td>\n",
       "      <td>-0.027758</td>\n",
       "      <td>-0.365536</td>\n",
       "      <td>8</td>\n",
       "      <td>Not</td>\n",
       "    </tr>\n",
       "    <tr>\n",
       "      <th>2</th>\n",
       "      <td>00028f0ad71c07f48aef465fd0c98ba6e3f0f3de3d2f7d...</td>\n",
       "      <td>2.400000</td>\n",
       "      <td>-0.657060</td>\n",
       "      <td>-0.231703</td>\n",
       "      <td>-0.290803</td>\n",
       "      <td>-0.249534</td>\n",
       "      <td>-0.487666</td>\n",
       "      <td>-0.306354</td>\n",
       "      <td>-0.569130</td>\n",
       "      <td>-0.023543</td>\n",
       "      <td>...</td>\n",
       "      <td>-0.231827</td>\n",
       "      <td>-0.016574</td>\n",
       "      <td>-0.275174</td>\n",
       "      <td>-0.343293</td>\n",
       "      <td>-0.024028</td>\n",
       "      <td>-0.502609</td>\n",
       "      <td>-0.027758</td>\n",
       "      <td>-0.365536</td>\n",
       "      <td>5</td>\n",
       "      <td>Not</td>\n",
       "    </tr>\n",
       "    <tr>\n",
       "      <th>3</th>\n",
       "      <td>00036e5b6a197c196fa10fc0ad4e2853b22294dff64d27...</td>\n",
       "      <td>5.166667</td>\n",
       "      <td>-0.503199</td>\n",
       "      <td>-0.182299</td>\n",
       "      <td>-0.285875</td>\n",
       "      <td>-0.027648</td>\n",
       "      <td>-0.151896</td>\n",
       "      <td>-0.303584</td>\n",
       "      <td>-0.483064</td>\n",
       "      <td>-0.023517</td>\n",
       "      <td>...</td>\n",
       "      <td>-0.161998</td>\n",
       "      <td>-0.016574</td>\n",
       "      <td>-0.270133</td>\n",
       "      <td>-0.343293</td>\n",
       "      <td>-0.024028</td>\n",
       "      <td>-0.429660</td>\n",
       "      <td>-0.027758</td>\n",
       "      <td>-0.365536</td>\n",
       "      <td>6</td>\n",
       "      <td>Not</td>\n",
       "    </tr>\n",
       "    <tr>\n",
       "      <th>4</th>\n",
       "      <td>00037fe8e712041a476b8b1b827583cbc34895844057f0...</td>\n",
       "      <td>1.500000</td>\n",
       "      <td>-0.655214</td>\n",
       "      <td>-0.231447</td>\n",
       "      <td>-0.290803</td>\n",
       "      <td>-0.248201</td>\n",
       "      <td>-0.487666</td>\n",
       "      <td>-0.306354</td>\n",
       "      <td>-0.568189</td>\n",
       "      <td>-0.023543</td>\n",
       "      <td>...</td>\n",
       "      <td>-0.231827</td>\n",
       "      <td>-0.016574</td>\n",
       "      <td>-0.275174</td>\n",
       "      <td>-0.343293</td>\n",
       "      <td>-0.024028</td>\n",
       "      <td>-0.500984</td>\n",
       "      <td>-0.027758</td>\n",
       "      <td>-0.365536</td>\n",
       "      <td>2</td>\n",
       "      <td>Not</td>\n",
       "    </tr>\n",
       "  </tbody>\n",
       "</table>\n",
       "<p>5 rows × 39 columns</p>\n",
       "</div>"
      ],
      "text/plain": [
       "                                              acc_id    cnt_dt  play_time  \\\n",
       "0  0000264b01392acfde44f9d8494f112a701dc5d3e5fda6...  6.000000   3.627488   \n",
       "1  0001f130e89288ff0df167b998f6eb7085687f411fcb72...  3.125000  -0.660696   \n",
       "2  00028f0ad71c07f48aef465fd0c98ba6e3f0f3de3d2f7d...  2.400000  -0.657060   \n",
       "3  00036e5b6a197c196fa10fc0ad4e2853b22294dff64d27...  5.166667  -0.503199   \n",
       "4  00037fe8e712041a476b8b1b827583cbc34895844057f0...  1.500000  -0.655214   \n",
       "\n",
       "    npc_exp  npc_hongmun  quest_exp  quest_hongmun  item_hongmun  \\\n",
       "0  6.041965    -0.238288   6.825828       4.926936     -0.306354   \n",
       "1 -0.231874    -0.290803  -0.250423      -0.487666     -0.306354   \n",
       "2 -0.231703    -0.290803  -0.249534      -0.487666     -0.306354   \n",
       "3 -0.182299    -0.285875  -0.027648      -0.151896     -0.303584   \n",
       "4 -0.231447    -0.290803  -0.248201      -0.487666     -0.306354   \n",
       "\n",
       "   game_combat_time  get_money  ...    whisper_chat  district_chat  \\\n",
       "0          2.555035  -0.023419  ...       -0.231827      -0.016574   \n",
       "1         -0.569842  -0.023543  ...       -0.231827      -0.016574   \n",
       "2         -0.569130  -0.023543  ...       -0.231827      -0.016574   \n",
       "3         -0.483064  -0.023517  ...       -0.161998      -0.016574   \n",
       "4         -0.568189  -0.023543  ...       -0.231827      -0.016574   \n",
       "\n",
       "   party_chat  guild_chat  faction_chat  cnt_use_buffitem  gathering_cnt  \\\n",
       "0   -0.275174   -0.343293     -0.024028          2.662520      -0.027758   \n",
       "1   -0.275174   -0.343293     -0.024028         -0.503692      -0.027758   \n",
       "2   -0.275174   -0.343293     -0.024028         -0.502609      -0.027758   \n",
       "3   -0.270133   -0.343293     -0.024028         -0.429660      -0.027758   \n",
       "4   -0.275174   -0.343293     -0.024028         -0.500984      -0.027758   \n",
       "\n",
       "   making_cnt  wk_sum  guild  \n",
       "0   -0.365536       2    Not  \n",
       "1   -0.365536       8    Not  \n",
       "2   -0.365536       5    Not  \n",
       "3   -0.365536       6    Not  \n",
       "4   -0.365536       2    Not  \n",
       "\n",
       "[5 rows x 39 columns]"
      ]
     },
     "execution_count": 24,
     "metadata": {},
     "output_type": "execute_result"
    }
   ],
   "source": [
    "activity_df=activity_df.reset_index()\n",
    "activity_df.head()"
   ]
  },
  {
   "cell_type": "markdown",
   "metadata": {},
   "source": [
    "### label과 정확한 결합을 위해 sort를 진행한 후 결합한다."
   ]
  },
  {
   "cell_type": "code",
   "execution_count": 30,
   "metadata": {
    "collapsed": true
   },
   "outputs": [],
   "source": [
    "label_df=pd.read_csv('train_label.csv')"
   ]
  },
  {
   "cell_type": "code",
   "execution_count": 36,
   "metadata": {
    "collapsed": true
   },
   "outputs": [],
   "source": [
    "label_df=label_df.sort_values(by='acc_id')"
   ]
  },
  {
   "cell_type": "code",
   "execution_count": 37,
   "metadata": {},
   "outputs": [
    {
     "data": {
      "text/html": [
       "<div>\n",
       "<style>\n",
       "    .dataframe thead tr:only-child th {\n",
       "        text-align: right;\n",
       "    }\n",
       "\n",
       "    .dataframe thead th {\n",
       "        text-align: left;\n",
       "    }\n",
       "\n",
       "    .dataframe tbody tr th {\n",
       "        vertical-align: top;\n",
       "    }\n",
       "</style>\n",
       "<table border=\"1\" class=\"dataframe\">\n",
       "  <thead>\n",
       "    <tr style=\"text-align: right;\">\n",
       "      <th></th>\n",
       "      <th>acc_id</th>\n",
       "      <th>label</th>\n",
       "    </tr>\n",
       "  </thead>\n",
       "  <tbody>\n",
       "    <tr>\n",
       "      <th>19848</th>\n",
       "      <td>0000264b01392acfde44f9d8494f112a701dc5d3e5fda6...</td>\n",
       "      <td>week</td>\n",
       "    </tr>\n",
       "    <tr>\n",
       "      <th>80845</th>\n",
       "      <td>0001f130e89288ff0df167b998f6eb7085687f411fcb72...</td>\n",
       "      <td>retained</td>\n",
       "    </tr>\n",
       "    <tr>\n",
       "      <th>90690</th>\n",
       "      <td>00028f0ad71c07f48aef465fd0c98ba6e3f0f3de3d2f7d...</td>\n",
       "      <td>retained</td>\n",
       "    </tr>\n",
       "    <tr>\n",
       "      <th>29656</th>\n",
       "      <td>00036e5b6a197c196fa10fc0ad4e2853b22294dff64d27...</td>\n",
       "      <td>month</td>\n",
       "    </tr>\n",
       "    <tr>\n",
       "      <th>55041</th>\n",
       "      <td>00037fe8e712041a476b8b1b827583cbc34895844057f0...</td>\n",
       "      <td>2month</td>\n",
       "    </tr>\n",
       "  </tbody>\n",
       "</table>\n",
       "</div>"
      ],
      "text/plain": [
       "                                                  acc_id     label\n",
       "19848  0000264b01392acfde44f9d8494f112a701dc5d3e5fda6...      week\n",
       "80845  0001f130e89288ff0df167b998f6eb7085687f411fcb72...  retained\n",
       "90690  00028f0ad71c07f48aef465fd0c98ba6e3f0f3de3d2f7d...  retained\n",
       "29656  00036e5b6a197c196fa10fc0ad4e2853b22294dff64d27...     month\n",
       "55041  00037fe8e712041a476b8b1b827583cbc34895844057f0...    2month"
      ]
     },
     "execution_count": 37,
     "metadata": {},
     "output_type": "execute_result"
    }
   ],
   "source": [
    "label_df.head()"
   ]
  },
  {
   "cell_type": "code",
   "execution_count": 38,
   "metadata": {
    "collapsed": true
   },
   "outputs": [],
   "source": [
    "activity_df['label']=label"
   ]
  },
  {
   "cell_type": "code",
   "execution_count": 50,
   "metadata": {
    "scrolled": true
   },
   "outputs": [
    {
     "data": {
      "text/html": [
       "<div>\n",
       "<style>\n",
       "    .dataframe thead tr:only-child th {\n",
       "        text-align: right;\n",
       "    }\n",
       "\n",
       "    .dataframe thead th {\n",
       "        text-align: left;\n",
       "    }\n",
       "\n",
       "    .dataframe tbody tr th {\n",
       "        vertical-align: top;\n",
       "    }\n",
       "</style>\n",
       "<table border=\"1\" class=\"dataframe\">\n",
       "  <thead>\n",
       "    <tr style=\"text-align: right;\">\n",
       "      <th></th>\n",
       "      <th>acc_id</th>\n",
       "      <th>cnt_dt</th>\n",
       "      <th>play_time</th>\n",
       "      <th>npc_exp</th>\n",
       "      <th>npc_hongmun</th>\n",
       "      <th>quest_exp</th>\n",
       "      <th>quest_hongmun</th>\n",
       "      <th>item_hongmun</th>\n",
       "      <th>game_combat_time</th>\n",
       "      <th>get_money</th>\n",
       "      <th>...</th>\n",
       "      <th>district_chat</th>\n",
       "      <th>party_chat</th>\n",
       "      <th>guild_chat</th>\n",
       "      <th>faction_chat</th>\n",
       "      <th>cnt_use_buffitem</th>\n",
       "      <th>gathering_cnt</th>\n",
       "      <th>making_cnt</th>\n",
       "      <th>wk_sum</th>\n",
       "      <th>guild</th>\n",
       "      <th>label</th>\n",
       "    </tr>\n",
       "  </thead>\n",
       "  <tbody>\n",
       "    <tr>\n",
       "      <th>0</th>\n",
       "      <td>0000264b01392acfde44f9d8494f112a701dc5d3e5fda6...</td>\n",
       "      <td>6.000000</td>\n",
       "      <td>3.627488</td>\n",
       "      <td>6.041965</td>\n",
       "      <td>-0.238288</td>\n",
       "      <td>6.825828</td>\n",
       "      <td>4.926936</td>\n",
       "      <td>-0.306354</td>\n",
       "      <td>2.555035</td>\n",
       "      <td>-0.023419</td>\n",
       "      <td>...</td>\n",
       "      <td>-0.016574</td>\n",
       "      <td>-0.275174</td>\n",
       "      <td>-0.343293</td>\n",
       "      <td>-0.024028</td>\n",
       "      <td>2.662520</td>\n",
       "      <td>-0.027758</td>\n",
       "      <td>-0.365536</td>\n",
       "      <td>2</td>\n",
       "      <td>Not</td>\n",
       "      <td>week</td>\n",
       "    </tr>\n",
       "    <tr>\n",
       "      <th>1</th>\n",
       "      <td>0001f130e89288ff0df167b998f6eb7085687f411fcb72...</td>\n",
       "      <td>3.125000</td>\n",
       "      <td>-0.660696</td>\n",
       "      <td>-0.231874</td>\n",
       "      <td>-0.290803</td>\n",
       "      <td>-0.250423</td>\n",
       "      <td>-0.487666</td>\n",
       "      <td>-0.306354</td>\n",
       "      <td>-0.569842</td>\n",
       "      <td>-0.023543</td>\n",
       "      <td>...</td>\n",
       "      <td>-0.016574</td>\n",
       "      <td>-0.275174</td>\n",
       "      <td>-0.343293</td>\n",
       "      <td>-0.024028</td>\n",
       "      <td>-0.503692</td>\n",
       "      <td>-0.027758</td>\n",
       "      <td>-0.365536</td>\n",
       "      <td>8</td>\n",
       "      <td>Not</td>\n",
       "      <td>retained</td>\n",
       "    </tr>\n",
       "    <tr>\n",
       "      <th>2</th>\n",
       "      <td>00028f0ad71c07f48aef465fd0c98ba6e3f0f3de3d2f7d...</td>\n",
       "      <td>2.400000</td>\n",
       "      <td>-0.657060</td>\n",
       "      <td>-0.231703</td>\n",
       "      <td>-0.290803</td>\n",
       "      <td>-0.249534</td>\n",
       "      <td>-0.487666</td>\n",
       "      <td>-0.306354</td>\n",
       "      <td>-0.569130</td>\n",
       "      <td>-0.023543</td>\n",
       "      <td>...</td>\n",
       "      <td>-0.016574</td>\n",
       "      <td>-0.275174</td>\n",
       "      <td>-0.343293</td>\n",
       "      <td>-0.024028</td>\n",
       "      <td>-0.502609</td>\n",
       "      <td>-0.027758</td>\n",
       "      <td>-0.365536</td>\n",
       "      <td>5</td>\n",
       "      <td>Not</td>\n",
       "      <td>retained</td>\n",
       "    </tr>\n",
       "    <tr>\n",
       "      <th>3</th>\n",
       "      <td>00036e5b6a197c196fa10fc0ad4e2853b22294dff64d27...</td>\n",
       "      <td>5.166667</td>\n",
       "      <td>-0.503199</td>\n",
       "      <td>-0.182299</td>\n",
       "      <td>-0.285875</td>\n",
       "      <td>-0.027648</td>\n",
       "      <td>-0.151896</td>\n",
       "      <td>-0.303584</td>\n",
       "      <td>-0.483064</td>\n",
       "      <td>-0.023517</td>\n",
       "      <td>...</td>\n",
       "      <td>-0.016574</td>\n",
       "      <td>-0.270133</td>\n",
       "      <td>-0.343293</td>\n",
       "      <td>-0.024028</td>\n",
       "      <td>-0.429660</td>\n",
       "      <td>-0.027758</td>\n",
       "      <td>-0.365536</td>\n",
       "      <td>6</td>\n",
       "      <td>Not</td>\n",
       "      <td>month</td>\n",
       "    </tr>\n",
       "    <tr>\n",
       "      <th>4</th>\n",
       "      <td>00037fe8e712041a476b8b1b827583cbc34895844057f0...</td>\n",
       "      <td>1.500000</td>\n",
       "      <td>-0.655214</td>\n",
       "      <td>-0.231447</td>\n",
       "      <td>-0.290803</td>\n",
       "      <td>-0.248201</td>\n",
       "      <td>-0.487666</td>\n",
       "      <td>-0.306354</td>\n",
       "      <td>-0.568189</td>\n",
       "      <td>-0.023543</td>\n",
       "      <td>...</td>\n",
       "      <td>-0.016574</td>\n",
       "      <td>-0.275174</td>\n",
       "      <td>-0.343293</td>\n",
       "      <td>-0.024028</td>\n",
       "      <td>-0.500984</td>\n",
       "      <td>-0.027758</td>\n",
       "      <td>-0.365536</td>\n",
       "      <td>2</td>\n",
       "      <td>Not</td>\n",
       "      <td>2month</td>\n",
       "    </tr>\n",
       "  </tbody>\n",
       "</table>\n",
       "<p>5 rows × 40 columns</p>\n",
       "</div>"
      ],
      "text/plain": [
       "                                              acc_id    cnt_dt  play_time  \\\n",
       "0  0000264b01392acfde44f9d8494f112a701dc5d3e5fda6...  6.000000   3.627488   \n",
       "1  0001f130e89288ff0df167b998f6eb7085687f411fcb72...  3.125000  -0.660696   \n",
       "2  00028f0ad71c07f48aef465fd0c98ba6e3f0f3de3d2f7d...  2.400000  -0.657060   \n",
       "3  00036e5b6a197c196fa10fc0ad4e2853b22294dff64d27...  5.166667  -0.503199   \n",
       "4  00037fe8e712041a476b8b1b827583cbc34895844057f0...  1.500000  -0.655214   \n",
       "\n",
       "    npc_exp  npc_hongmun  quest_exp  quest_hongmun  item_hongmun  \\\n",
       "0  6.041965    -0.238288   6.825828       4.926936     -0.306354   \n",
       "1 -0.231874    -0.290803  -0.250423      -0.487666     -0.306354   \n",
       "2 -0.231703    -0.290803  -0.249534      -0.487666     -0.306354   \n",
       "3 -0.182299    -0.285875  -0.027648      -0.151896     -0.303584   \n",
       "4 -0.231447    -0.290803  -0.248201      -0.487666     -0.306354   \n",
       "\n",
       "   game_combat_time  get_money    ...     district_chat  party_chat  \\\n",
       "0          2.555035  -0.023419    ...         -0.016574   -0.275174   \n",
       "1         -0.569842  -0.023543    ...         -0.016574   -0.275174   \n",
       "2         -0.569130  -0.023543    ...         -0.016574   -0.275174   \n",
       "3         -0.483064  -0.023517    ...         -0.016574   -0.270133   \n",
       "4         -0.568189  -0.023543    ...         -0.016574   -0.275174   \n",
       "\n",
       "   guild_chat  faction_chat  cnt_use_buffitem  gathering_cnt  making_cnt  \\\n",
       "0   -0.343293     -0.024028          2.662520      -0.027758   -0.365536   \n",
       "1   -0.343293     -0.024028         -0.503692      -0.027758   -0.365536   \n",
       "2   -0.343293     -0.024028         -0.502609      -0.027758   -0.365536   \n",
       "3   -0.343293     -0.024028         -0.429660      -0.027758   -0.365536   \n",
       "4   -0.343293     -0.024028         -0.500984      -0.027758   -0.365536   \n",
       "\n",
       "   wk_sum  guild     label  \n",
       "0       2    Not      week  \n",
       "1       8    Not  retained  \n",
       "2       5    Not  retained  \n",
       "3       6    Not     month  \n",
       "4       2    Not    2month  \n",
       "\n",
       "[5 rows x 40 columns]"
      ]
     },
     "execution_count": 50,
     "metadata": {},
     "output_type": "execute_result"
    }
   ],
   "source": [
    "activity_df.head()"
   ]
  },
  {
   "cell_type": "markdown",
   "metadata": {},
   "source": [
    "### payment 역시 결제 주의 count와 결제 총량을 빼내어 activity_df에 저장한다. "
   ]
  },
  {
   "cell_type": "code",
   "execution_count": 51,
   "metadata": {
    "collapsed": true
   },
   "outputs": [],
   "source": [
    "payment_df=pd.read_csv('train_payment.csv')"
   ]
  },
  {
   "cell_type": "code",
   "execution_count": 67,
   "metadata": {
    "collapsed": true
   },
   "outputs": [],
   "source": [
    "pay_week=list(payment_df.groupby('acc_id').count().payment_week)"
   ]
  },
  {
   "cell_type": "code",
   "execution_count": 68,
   "metadata": {
    "collapsed": true
   },
   "outputs": [],
   "source": [
    "pay_amount=list(payment_df.groupby('acc_id').mean().payment_amount)"
   ]
  },
  {
   "cell_type": "code",
   "execution_count": 69,
   "metadata": {
    "collapsed": true
   },
   "outputs": [],
   "source": [
    "activity_df['payment_week']=pay_week"
   ]
  },
  {
   "cell_type": "code",
   "execution_count": 70,
   "metadata": {
    "collapsed": true
   },
   "outputs": [],
   "source": [
    "activity_df['payment_amount']=pay_amount"
   ]
  },
  {
   "cell_type": "code",
   "execution_count": 71,
   "metadata": {},
   "outputs": [
    {
     "data": {
      "text/html": [
       "<div>\n",
       "<style>\n",
       "    .dataframe thead tr:only-child th {\n",
       "        text-align: right;\n",
       "    }\n",
       "\n",
       "    .dataframe thead th {\n",
       "        text-align: left;\n",
       "    }\n",
       "\n",
       "    .dataframe tbody tr th {\n",
       "        vertical-align: top;\n",
       "    }\n",
       "</style>\n",
       "<table border=\"1\" class=\"dataframe\">\n",
       "  <thead>\n",
       "    <tr style=\"text-align: right;\">\n",
       "      <th></th>\n",
       "      <th>acc_id</th>\n",
       "      <th>cnt_dt</th>\n",
       "      <th>play_time</th>\n",
       "      <th>npc_exp</th>\n",
       "      <th>npc_hongmun</th>\n",
       "      <th>quest_exp</th>\n",
       "      <th>quest_hongmun</th>\n",
       "      <th>item_hongmun</th>\n",
       "      <th>game_combat_time</th>\n",
       "      <th>get_money</th>\n",
       "      <th>...</th>\n",
       "      <th>guild_chat</th>\n",
       "      <th>faction_chat</th>\n",
       "      <th>cnt_use_buffitem</th>\n",
       "      <th>gathering_cnt</th>\n",
       "      <th>making_cnt</th>\n",
       "      <th>wk_sum</th>\n",
       "      <th>guild</th>\n",
       "      <th>label</th>\n",
       "      <th>payment_week</th>\n",
       "      <th>payment_amount</th>\n",
       "    </tr>\n",
       "  </thead>\n",
       "  <tbody>\n",
       "    <tr>\n",
       "      <th>0</th>\n",
       "      <td>0000264b01392acfde44f9d8494f112a701dc5d3e5fda6...</td>\n",
       "      <td>6.000000</td>\n",
       "      <td>3.627488</td>\n",
       "      <td>6.041965</td>\n",
       "      <td>-0.238288</td>\n",
       "      <td>6.825828</td>\n",
       "      <td>4.926936</td>\n",
       "      <td>-0.306354</td>\n",
       "      <td>2.555035</td>\n",
       "      <td>-0.023419</td>\n",
       "      <td>...</td>\n",
       "      <td>-0.343293</td>\n",
       "      <td>-0.024028</td>\n",
       "      <td>2.662520</td>\n",
       "      <td>-0.027758</td>\n",
       "      <td>-0.365536</td>\n",
       "      <td>2</td>\n",
       "      <td>Not</td>\n",
       "      <td>week</td>\n",
       "      <td>8</td>\n",
       "      <td>-0.149898</td>\n",
       "    </tr>\n",
       "    <tr>\n",
       "      <th>1</th>\n",
       "      <td>0001f130e89288ff0df167b998f6eb7085687f411fcb72...</td>\n",
       "      <td>3.125000</td>\n",
       "      <td>-0.660696</td>\n",
       "      <td>-0.231874</td>\n",
       "      <td>-0.290803</td>\n",
       "      <td>-0.250423</td>\n",
       "      <td>-0.487666</td>\n",
       "      <td>-0.306354</td>\n",
       "      <td>-0.569842</td>\n",
       "      <td>-0.023543</td>\n",
       "      <td>...</td>\n",
       "      <td>-0.343293</td>\n",
       "      <td>-0.024028</td>\n",
       "      <td>-0.503692</td>\n",
       "      <td>-0.027758</td>\n",
       "      <td>-0.365536</td>\n",
       "      <td>8</td>\n",
       "      <td>Not</td>\n",
       "      <td>retained</td>\n",
       "      <td>8</td>\n",
       "      <td>-0.149898</td>\n",
       "    </tr>\n",
       "    <tr>\n",
       "      <th>2</th>\n",
       "      <td>00028f0ad71c07f48aef465fd0c98ba6e3f0f3de3d2f7d...</td>\n",
       "      <td>2.400000</td>\n",
       "      <td>-0.657060</td>\n",
       "      <td>-0.231703</td>\n",
       "      <td>-0.290803</td>\n",
       "      <td>-0.249534</td>\n",
       "      <td>-0.487666</td>\n",
       "      <td>-0.306354</td>\n",
       "      <td>-0.569130</td>\n",
       "      <td>-0.023543</td>\n",
       "      <td>...</td>\n",
       "      <td>-0.343293</td>\n",
       "      <td>-0.024028</td>\n",
       "      <td>-0.502609</td>\n",
       "      <td>-0.027758</td>\n",
       "      <td>-0.365536</td>\n",
       "      <td>5</td>\n",
       "      <td>Not</td>\n",
       "      <td>retained</td>\n",
       "      <td>8</td>\n",
       "      <td>-0.149898</td>\n",
       "    </tr>\n",
       "    <tr>\n",
       "      <th>3</th>\n",
       "      <td>00036e5b6a197c196fa10fc0ad4e2853b22294dff64d27...</td>\n",
       "      <td>5.166667</td>\n",
       "      <td>-0.503199</td>\n",
       "      <td>-0.182299</td>\n",
       "      <td>-0.285875</td>\n",
       "      <td>-0.027648</td>\n",
       "      <td>-0.151896</td>\n",
       "      <td>-0.303584</td>\n",
       "      <td>-0.483064</td>\n",
       "      <td>-0.023517</td>\n",
       "      <td>...</td>\n",
       "      <td>-0.343293</td>\n",
       "      <td>-0.024028</td>\n",
       "      <td>-0.429660</td>\n",
       "      <td>-0.027758</td>\n",
       "      <td>-0.365536</td>\n",
       "      <td>6</td>\n",
       "      <td>Not</td>\n",
       "      <td>month</td>\n",
       "      <td>8</td>\n",
       "      <td>-0.149898</td>\n",
       "    </tr>\n",
       "    <tr>\n",
       "      <th>4</th>\n",
       "      <td>00037fe8e712041a476b8b1b827583cbc34895844057f0...</td>\n",
       "      <td>1.500000</td>\n",
       "      <td>-0.655214</td>\n",
       "      <td>-0.231447</td>\n",
       "      <td>-0.290803</td>\n",
       "      <td>-0.248201</td>\n",
       "      <td>-0.487666</td>\n",
       "      <td>-0.306354</td>\n",
       "      <td>-0.568189</td>\n",
       "      <td>-0.023543</td>\n",
       "      <td>...</td>\n",
       "      <td>-0.343293</td>\n",
       "      <td>-0.024028</td>\n",
       "      <td>-0.500984</td>\n",
       "      <td>-0.027758</td>\n",
       "      <td>-0.365536</td>\n",
       "      <td>2</td>\n",
       "      <td>Not</td>\n",
       "      <td>2month</td>\n",
       "      <td>8</td>\n",
       "      <td>-0.149898</td>\n",
       "    </tr>\n",
       "  </tbody>\n",
       "</table>\n",
       "<p>5 rows × 42 columns</p>\n",
       "</div>"
      ],
      "text/plain": [
       "                                              acc_id    cnt_dt  play_time  \\\n",
       "0  0000264b01392acfde44f9d8494f112a701dc5d3e5fda6...  6.000000   3.627488   \n",
       "1  0001f130e89288ff0df167b998f6eb7085687f411fcb72...  3.125000  -0.660696   \n",
       "2  00028f0ad71c07f48aef465fd0c98ba6e3f0f3de3d2f7d...  2.400000  -0.657060   \n",
       "3  00036e5b6a197c196fa10fc0ad4e2853b22294dff64d27...  5.166667  -0.503199   \n",
       "4  00037fe8e712041a476b8b1b827583cbc34895844057f0...  1.500000  -0.655214   \n",
       "\n",
       "    npc_exp  npc_hongmun  quest_exp  quest_hongmun  item_hongmun  \\\n",
       "0  6.041965    -0.238288   6.825828       4.926936     -0.306354   \n",
       "1 -0.231874    -0.290803  -0.250423      -0.487666     -0.306354   \n",
       "2 -0.231703    -0.290803  -0.249534      -0.487666     -0.306354   \n",
       "3 -0.182299    -0.285875  -0.027648      -0.151896     -0.303584   \n",
       "4 -0.231447    -0.290803  -0.248201      -0.487666     -0.306354   \n",
       "\n",
       "   game_combat_time  get_money       ...        guild_chat  faction_chat  \\\n",
       "0          2.555035  -0.023419       ...         -0.343293     -0.024028   \n",
       "1         -0.569842  -0.023543       ...         -0.343293     -0.024028   \n",
       "2         -0.569130  -0.023543       ...         -0.343293     -0.024028   \n",
       "3         -0.483064  -0.023517       ...         -0.343293     -0.024028   \n",
       "4         -0.568189  -0.023543       ...         -0.343293     -0.024028   \n",
       "\n",
       "   cnt_use_buffitem  gathering_cnt  making_cnt  wk_sum  guild     label  \\\n",
       "0          2.662520      -0.027758   -0.365536       2    Not      week   \n",
       "1         -0.503692      -0.027758   -0.365536       8    Not  retained   \n",
       "2         -0.502609      -0.027758   -0.365536       5    Not  retained   \n",
       "3         -0.429660      -0.027758   -0.365536       6    Not     month   \n",
       "4         -0.500984      -0.027758   -0.365536       2    Not    2month   \n",
       "\n",
       "   payment_week  payment_amount  \n",
       "0             8       -0.149898  \n",
       "1             8       -0.149898  \n",
       "2             8       -0.149898  \n",
       "3             8       -0.149898  \n",
       "4             8       -0.149898  \n",
       "\n",
       "[5 rows x 42 columns]"
      ]
     },
     "execution_count": 71,
     "metadata": {},
     "output_type": "execute_result"
    }
   ],
   "source": [
    "activity_df.head()"
   ]
  },
  {
   "cell_type": "code",
   "execution_count": 72,
   "metadata": {
    "collapsed": true
   },
   "outputs": [],
   "source": [
    "activity_df.to_csv('activity_df.csv')"
   ]
  },
  {
   "cell_type": "code",
   "execution_count": null,
   "metadata": {
    "collapsed": true
   },
   "outputs": [],
   "source": []
  }
 ],
 "metadata": {
  "kernelspec": {
   "display_name": "Python 3",
   "language": "python",
   "name": "python3"
  },
  "language_info": {
   "codemirror_mode": {
    "name": "ipython",
    "version": 3
   },
   "file_extension": ".py",
   "mimetype": "text/x-python",
   "name": "python",
   "nbconvert_exporter": "python",
   "pygments_lexer": "ipython3",
   "version": "3.6.3"
  }
 },
 "nbformat": 4,
 "nbformat_minor": 2
}
